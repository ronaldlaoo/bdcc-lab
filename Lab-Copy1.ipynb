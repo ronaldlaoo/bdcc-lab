{
 "cells": [
  {
   "cell_type": "code",
   "execution_count": 1,
   "id": "8717e04f-b3a4-42c1-833d-5db2b9f16cd0",
   "metadata": {
    "execution": {
     "iopub.execute_input": "2025-05-08T11:22:09.562383Z",
     "iopub.status.busy": "2025-05-08T11:22:09.562166Z",
     "iopub.status.idle": "2025-05-08T11:22:11.022495Z",
     "shell.execute_reply": "2025-05-08T11:22:11.021518Z",
     "shell.execute_reply.started": "2025-05-08T11:22:09.562361Z"
    }
   },
   "outputs": [],
   "source": [
    "import os\n",
    "os.environ['PYARROW_IGNORE_TIMEZONE'] = '1'\n",
    "import pyspark.pandas as ps"
   ]
  },
  {
   "cell_type": "code",
   "execution_count": 2,
   "id": "ca3c8c81-543e-427a-80e3-d55ce181123a",
   "metadata": {
    "execution": {
     "iopub.execute_input": "2025-05-08T11:22:11.024011Z",
     "iopub.status.busy": "2025-05-08T11:22:11.023557Z",
     "iopub.status.idle": "2025-05-08T11:22:17.784666Z",
     "shell.execute_reply": "2025-05-08T11:22:17.783433Z",
     "shell.execute_reply.started": "2025-05-08T11:22:11.023978Z"
    }
   },
   "outputs": [],
   "source": [
    "from pyspark.sql import SparkSession\n",
    "spark = (SparkSession\n",
    "     .builder\n",
    "     .master('local[*]')\n",
    "     .config('spark.sql.execution.arrow.pyspark.enabled', 'true')\n",
    "     .getOrCreate())"
   ]
  },
  {
   "cell_type": "code",
   "execution_count": 8,
   "id": "1f3aff11-bc77-4124-9f18-304f32277c5c",
   "metadata": {
    "collapsed": true,
    "execution": {
     "iopub.execute_input": "2025-05-08T11:27:02.253268Z",
     "iopub.status.busy": "2025-05-08T11:27:02.251873Z",
     "iopub.status.idle": "2025-05-08T11:27:02.306188Z",
     "shell.execute_reply": "2025-05-08T11:27:02.305452Z",
     "shell.execute_reply.started": "2025-05-08T11:27:02.253173Z"
    },
    "jupyter": {
     "outputs_hidden": true
    }
   },
   "outputs": [
    {
     "name": "stdout",
     "output_type": "stream",
     "text": [
      "amazon_reviews_multilingual_DE_v1_00.tsv.gz: 0.23 GB\n",
      "amazon_reviews_multilingual_FR_v1_00.tsv.gz: 0.07 GB\n",
      "amazon_reviews_multilingual_JP_v1_00.tsv.gz: 0.09 GB\n",
      "amazon_reviews_multilingual_UK_v1_00.tsv.gz: 0.33 GB\n",
      "amazon_reviews_multilingual_US_v1_00.tsv.gz: 1.37 GB\n",
      "amazon_reviews_us_Apparel_v1_00.tsv.gz: 0.60 GB\n",
      "amazon_reviews_us_Automotive_v1_00.tsv.gz: 0.54 GB\n",
      "amazon_reviews_us_Baby_v1_00.tsv.gz: 0.33 GB\n",
      "amazon_reviews_us_Beauty_v1_00.tsv.gz: 0.85 GB\n",
      "amazon_reviews_us_Books_v1_00.tsv.gz: 2.55 GB\n",
      "amazon_reviews_us_Books_v1_01.tsv.gz: 2.51 GB\n",
      "amazon_reviews_us_Books_v1_02.tsv.gz: 1.24 GB\n",
      "amazon_reviews_us_Camera_v1_00.tsv.gz: 0.41 GB\n",
      "amazon_reviews_us_Digital_Ebook_Purchase_v1_00.tsv.gz: 2.51 GB\n",
      "amazon_reviews_us_Digital_Ebook_Purchase_v1_01.tsv.gz: 1.21 GB\n",
      "amazon_reviews_us_Digital_Music_Purchase_v1_00.tsv.gz: 0.24 GB\n",
      "amazon_reviews_us_Digital_Software_v1_00.tsv.gz: 0.02 GB\n",
      "amazon_reviews_us_Digital_Video_Download_v1_00.tsv.gz: 0.47 GB\n",
      "amazon_reviews_us_Digital_Video_Games_v1_00.tsv.gz: 0.03 GB\n",
      "amazon_reviews_us_Electronics_v1_00.tsv.gz: 0.65 GB\n",
      "amazon_reviews_us_Furniture_v1_00.tsv.gz: 0.14 GB\n",
      "amazon_reviews_us_Gift_Card_v1_00.tsv.gz: 0.01 GB\n",
      "amazon_reviews_us_Grocery_v1_00.tsv.gz: 0.37 GB\n",
      "amazon_reviews_us_Health_Personal_Care_v1_00.tsv.gz: 0.94 GB\n",
      "amazon_reviews_us_Home_Entertainment_v1_00.tsv.gz: 0.18 GB\n",
      "amazon_reviews_us_Home_Improvement_v1_00.tsv.gz: 0.47 GB\n",
      "amazon_reviews_us_Home_v1_00.tsv.gz: 1.01 GB\n",
      "amazon_reviews_us_Jewelry_v1_00.tsv.gz: 0.23 GB\n",
      "amazon_reviews_us_Kitchen_v1_00.tsv.gz: 0.87 GB\n",
      "amazon_reviews_us_Lawn_and_Garden_v1_00.tsv.gz: 0.45 GB\n",
      "amazon_reviews_us_Luggage_v1_00.tsv.gz: 0.06 GB\n",
      "amazon_reviews_us_Major_Appliances_v1_00.tsv.gz: 0.02 GB\n",
      "amazon_reviews_us_Mobile_Apps_v1_00.tsv.gz: 0.52 GB\n",
      "amazon_reviews_us_Mobile_Electronics_v1_00.tsv.gz: 0.02 GB\n",
      "amazon_reviews_us_Music_v1_00.tsv.gz: 1.42 GB\n",
      "amazon_reviews_us_Musical_Instruments_v1_00.tsv.gz: 0.18 GB\n",
      "amazon_reviews_us_Office_Products_v1_00.tsv.gz: 0.48 GB\n",
      "amazon_reviews_us_Outdoors_v1_00.tsv.gz: 0.42 GB\n",
      "amazon_reviews_us_PC_v1_00.tsv.gz: 1.41 GB\n",
      "amazon_reviews_us_Personal_Care_Appliances_v1_00.tsv.gz: 0.02 GB\n",
      "amazon_reviews_us_Pet_Products_v1_00.tsv.gz: 0.48 GB\n",
      "amazon_reviews_us_Shoes_v1_00.tsv.gz: 0.60 GB\n",
      "amazon_reviews_us_Software_v1_00.tsv.gz: 0.09 GB\n",
      "amazon_reviews_us_Sports_v1_00.tsv.gz: 0.81 GB\n",
      "amazon_reviews_us_Tools_v1_00.tsv.gz: 0.31 GB\n",
      "amazon_reviews_us_Toys_v1_00.tsv.gz: 0.78 GB\n",
      "amazon_reviews_us_Video_DVD_v1_00.tsv.gz: 1.41 GB\n",
      "amazon_reviews_us_Video_Games_v1_00.tsv.gz: 0.44 GB\n",
      "amazon_reviews_us_Video_v1_00.tsv.gz: 0.13 GB\n",
      "amazon_reviews_us_Watches_v1_00.tsv.gz: 0.15 GB\n",
      "amazon_reviews_us_Wireless_v1_00.tsv.gz: 1.59 GB\n",
      "readme.html: 0.00 GB\n"
     ]
    }
   ],
   "source": [
    "# path = \"/mnt/data/public/amazon-reviews\"\n",
    "\n",
    "# # Get size in GB for each file\n",
    "# for file in sorted(os.listdir(path)):\n",
    "#     full_path = os.path.join(path, file)\n",
    "#     if os.path.isfile(full_path):\n",
    "#         size_gb = os.path.getsize(full_path) / (1024 ** 3)\n",
    "#         print(f\"{file}: {size_gb:.2f} GB\")\n"
   ]
  },
  {
   "cell_type": "code",
   "execution_count": 9,
   "id": "44d94bd7-e7bc-4ae8-a2ab-bc9caffe6240",
   "metadata": {
    "execution": {
     "iopub.execute_input": "2025-05-08T11:28:25.289615Z",
     "iopub.status.busy": "2025-05-08T11:28:25.288940Z",
     "iopub.status.idle": "2025-05-08T11:28:25.332858Z",
     "shell.execute_reply": "2025-05-08T11:28:25.331843Z",
     "shell.execute_reply.started": "2025-05-08T11:28:25.289566Z"
    }
   },
   "outputs": [],
   "source": [
    "# import os\n",
    "# import pandas as pd\n",
    "\n",
    "# path = \"/mnt/data/public/amazon-reviews\"\n",
    "\n",
    "# file_data = []\n",
    "# for file in sorted(os.listdir(path)):\n",
    "#     full_path = os.path.join(path, file)\n",
    "#     if os.path.isfile(full_path):\n",
    "#         size_gb = os.path.getsize(full_path) / (1024 ** 3)\n",
    "#         file_data.append((file, round(size_gb, 2)))\n",
    "\n",
    "# df_sizes = pd.DataFrame(file_data, columns=[\"filename\", \"size_gb\"])\n",
    "\n",
    "# # Save to CSV\n",
    "# df_sizes.to_csv(\"amazon_reviews_file_sizes.csv\", index=False)\n"
   ]
  },
  {
   "cell_type": "code",
   "execution_count": 11,
   "id": "5b353500-4762-4ce4-9533-4395062cc875",
   "metadata": {
    "execution": {
     "iopub.execute_input": "2025-05-08T11:33:45.281291Z",
     "iopub.status.busy": "2025-05-08T11:33:45.280950Z",
     "iopub.status.idle": "2025-05-08T11:34:19.962141Z",
     "shell.execute_reply": "2025-05-08T11:34:19.960488Z",
     "shell.execute_reply.started": "2025-05-08T11:33:45.281260Z"
    }
   },
   "outputs": [
    {
     "name": "stderr",
     "output_type": "stream",
     "text": [
      "/usr/local/spark/python/pyspark/pandas/utils.py:1017: PandasAPIOnSparkAdviceWarning: If `index_col` is not specified for `read_csv`, the default index is attached which can cause additional overhead.\n",
      "  warnings.warn(message, PandasAPIOnSparkAdviceWarning)\n",
      "/usr/local/spark/python/pyspark/pandas/utils.py:1017: PandasAPIOnSparkAdviceWarning: The config 'spark.sql.ansi.enabled' is set to True. This can cause unexpected behavior from pandas API on Spark since pandas API on Spark follows the behavior of pandas, not SQL.\n",
      "  warnings.warn(message, PandasAPIOnSparkAdviceWarning)\n"
     ]
    },
    {
     "data": {
      "text/html": [
       "<div>\n",
       "<style scoped>\n",
       "    .dataframe tbody tr th:only-of-type {\n",
       "        vertical-align: middle;\n",
       "    }\n",
       "\n",
       "    .dataframe tbody tr th {\n",
       "        vertical-align: top;\n",
       "    }\n",
       "\n",
       "    .dataframe thead th {\n",
       "        text-align: right;\n",
       "    }\n",
       "</style>\n",
       "<table border=\"1\" class=\"dataframe\">\n",
       "  <thead>\n",
       "    <tr style=\"text-align: right;\">\n",
       "      <th></th>\n",
       "      <th>marketplace</th>\n",
       "      <th>customer_id</th>\n",
       "      <th>review_id</th>\n",
       "      <th>product_id</th>\n",
       "      <th>product_parent</th>\n",
       "      <th>product_title</th>\n",
       "      <th>product_category</th>\n",
       "      <th>star_rating</th>\n",
       "      <th>helpful_votes</th>\n",
       "      <th>total_votes</th>\n",
       "      <th>vine</th>\n",
       "      <th>verified_purchase</th>\n",
       "      <th>review_headline</th>\n",
       "      <th>review_body</th>\n",
       "      <th>review_date</th>\n",
       "    </tr>\n",
       "  </thead>\n",
       "  <tbody>\n",
       "    <tr>\n",
       "      <th>0</th>\n",
       "      <td>US</td>\n",
       "      <td>41409413</td>\n",
       "      <td>R2MTG1GCZLR2DK</td>\n",
       "      <td>B00428R89M</td>\n",
       "      <td>112201306</td>\n",
       "      <td>yoomall 5M Antenna WIFI RP-SMA Female to Male ...</td>\n",
       "      <td>Electronics</td>\n",
       "      <td>5</td>\n",
       "      <td>0</td>\n",
       "      <td>0</td>\n",
       "      <td>N</td>\n",
       "      <td>Y</td>\n",
       "      <td>Five Stars</td>\n",
       "      <td>As described.</td>\n",
       "      <td>2015-08-31</td>\n",
       "    </tr>\n",
       "    <tr>\n",
       "      <th>1</th>\n",
       "      <td>US</td>\n",
       "      <td>49668221</td>\n",
       "      <td>R2HBOEM8LE9928</td>\n",
       "      <td>B000068O48</td>\n",
       "      <td>734576678</td>\n",
       "      <td>Hosa GPM-103 3.5mm TRS to 1/4\" TRS Adaptor</td>\n",
       "      <td>Electronics</td>\n",
       "      <td>5</td>\n",
       "      <td>0</td>\n",
       "      <td>0</td>\n",
       "      <td>N</td>\n",
       "      <td>Y</td>\n",
       "      <td>It works as advertising.</td>\n",
       "      <td>It works as advertising.</td>\n",
       "      <td>2015-08-31</td>\n",
       "    </tr>\n",
       "    <tr>\n",
       "      <th>2</th>\n",
       "      <td>US</td>\n",
       "      <td>12338275</td>\n",
       "      <td>R1P4RW1R9FDPEE</td>\n",
       "      <td>B000GGKOG8</td>\n",
       "      <td>614448099</td>\n",
       "      <td>Channel Master Titan 2 Antenna Preamplifier</td>\n",
       "      <td>Electronics</td>\n",
       "      <td>5</td>\n",
       "      <td>1</td>\n",
       "      <td>1</td>\n",
       "      <td>N</td>\n",
       "      <td>Y</td>\n",
       "      <td>Five Stars</td>\n",
       "      <td>Works pissa</td>\n",
       "      <td>2015-08-31</td>\n",
       "    </tr>\n",
       "    <tr>\n",
       "      <th>3</th>\n",
       "      <td>US</td>\n",
       "      <td>38487968</td>\n",
       "      <td>R1EBPM82ENI67M</td>\n",
       "      <td>B000NU4OTA</td>\n",
       "      <td>72265257</td>\n",
       "      <td>LIMTECH Wall charger + USB Hotsync &amp; Charging ...</td>\n",
       "      <td>Electronics</td>\n",
       "      <td>1</td>\n",
       "      <td>0</td>\n",
       "      <td>0</td>\n",
       "      <td>N</td>\n",
       "      <td>Y</td>\n",
       "      <td>One Star</td>\n",
       "      <td>Did not work at all.</td>\n",
       "      <td>2015-08-31</td>\n",
       "    </tr>\n",
       "    <tr>\n",
       "      <th>4</th>\n",
       "      <td>US</td>\n",
       "      <td>23732619</td>\n",
       "      <td>R372S58V6D11AT</td>\n",
       "      <td>B00JOQIO6S</td>\n",
       "      <td>308169188</td>\n",
       "      <td>Skullcandy Air Raid Portable Bluetooth Speaker</td>\n",
       "      <td>Electronics</td>\n",
       "      <td>5</td>\n",
       "      <td>1</td>\n",
       "      <td>1</td>\n",
       "      <td>N</td>\n",
       "      <td>Y</td>\n",
       "      <td>Overall pleased with the item</td>\n",
       "      <td>Works well. Bass is somewhat lacking but is pr...</td>\n",
       "      <td>2015-08-31</td>\n",
       "    </tr>\n",
       "  </tbody>\n",
       "</table>\n",
       "</div>"
      ],
      "text/plain": [
       "  marketplace  customer_id       review_id  product_id  product_parent                                                                                                               product_title product_category  star_rating  helpful_votes  total_votes vine verified_purchase                review_headline                                                                          review_body review_date\n",
       "0          US     41409413  R2MTG1GCZLR2DK  B00428R89M       112201306                                                              yoomall 5M Antenna WIFI RP-SMA Female to Male Extensionl Cable      Electronics            5              0            0    N                 Y                     Five Stars                                                                        As described.  2015-08-31\n",
       "1          US     49668221  R2HBOEM8LE9928  B000068O48       734576678                                                                                  Hosa GPM-103 3.5mm TRS to 1/4\" TRS Adaptor      Electronics            5              0            0    N                 Y       It works as advertising.                                                             It works as advertising.  2015-08-31\n",
       "2          US     12338275  R1P4RW1R9FDPEE  B000GGKOG8       614448099                                                                                 Channel Master Titan 2 Antenna Preamplifier      Electronics            5              1            1    N                 Y                     Five Stars                                                                          Works pissa  2015-08-31\n",
       "3          US     38487968  R1EBPM82ENI67M  B000NU4OTA        72265257  LIMTECH Wall charger + USB Hotsync & Charging Dock Cradle desktop Charger for Apple IPOD Shuffle 2nd Generation MP3 Player      Electronics            1              0            0    N                 Y                       One Star                                                                 Did not work at all.  2015-08-31\n",
       "4          US     23732619  R372S58V6D11AT  B00JOQIO6S       308169188                                                                              Skullcandy Air Raid Portable Bluetooth Speaker      Electronics            5              1            1    N                 Y  Overall pleased with the item  Works well. Bass is somewhat lacking but is present. Overall pleased with the item.  2015-08-31"
      ]
     },
     "execution_count": 11,
     "metadata": {},
     "output_type": "execute_result"
    }
   ],
   "source": [
    "ps.set_option(\"compute.default_index_type\", \"distributed\")\n",
    "\n",
    "sample_path = \"/mnt/data/public/amazon-reviews/amazon_reviews_us_Electronics_v1_00.tsv.gz\"\n",
    "df = ps.read_csv(sample_path, sep=\"\\t\", compression=\"gzip\")\n",
    "df.head()\n"
   ]
  },
  {
   "cell_type": "code",
   "execution_count": null,
   "id": "bf63fa3f-3a38-4b9e-9807-97f00e0c141a",
   "metadata": {},
   "outputs": [],
   "source": []
  }
 ],
 "metadata": {
  "kernelspec": {
   "display_name": "Python [conda env:base] *",
   "language": "python",
   "name": "conda-base-py"
  },
  "language_info": {
   "codemirror_mode": {
    "name": "ipython",
    "version": 3
   },
   "file_extension": ".py",
   "mimetype": "text/x-python",
   "name": "python",
   "nbconvert_exporter": "python",
   "pygments_lexer": "ipython3",
   "version": "3.12.8"
  }
 },
 "nbformat": 4,
 "nbformat_minor": 5
}
